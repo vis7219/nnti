{
 "cells": [
  {
   "cell_type": "code",
   "execution_count": 1,
   "metadata": {},
   "outputs": [],
   "source": [
    "import torch\n",
    "from transformers import AutoTokenizer, AutoModel, PreTrainedModel, AutoModelForMaskedLM,  DataCollatorForLanguageModeling\n",
    "import torch.nn as nn\n",
    "from torch.utils.data import Dataset, DataLoader\n",
    "from datasets import load_dataset\n",
    "import pandas as pd\n",
    "from tqdm import tqdm\n",
    "import matplotlib.pyplot as plt\n",
    "from pathlib import Path\n",
    "import random\n",
    "import numpy as np\n",
    "import matplotlib.pyplot as plt\n",
    "from torch.optim import AdamW\n",
    "import os\n",
    "from sklearn.model_selection import train_test_split\n",
    "from torchmetrics.regression import R2Score\n",
    "\n",
    "torch.manual_seed(42)\n",
    "random.seed(42)\n",
    "np.random.seed(42)"
   ]
  },
  {
   "cell_type": "markdown",
   "metadata": {},
   "source": [
    "# Functions"
   ]
  },
  {
   "cell_type": "markdown",
   "metadata": {},
   "source": [
    "## Model functions"
   ]
  },
  {
   "cell_type": "code",
   "execution_count": 2,
   "metadata": {},
   "outputs": [],
   "source": [
    "# Refer to task 1\n",
    "class MoLFormerMLMWithRegressionHead(PreTrainedModel):\n",
    "    def __init__(self, pretrained_model, config=None):\n",
    "        if config is None:\n",
    "            config = pretrained_model.config\n",
    "        super().__init__(config)\n",
    "        self.backbone = pretrained_model\n",
    "        hidden_size = self.backbone.config.hidden_size\n",
    "        self.regression_head = nn.Linear(hidden_size, 1)\n",
    "        self.config = config\n",
    "\n",
    "    def forward(self, input_ids, attention_mask=None):\n",
    "        outputs = self.backbone(input_ids=input_ids, \n",
    "                               attention_mask=attention_mask,\n",
    "                               output_hidden_states=True)  # MLM needs hidden states explicitly\n",
    "        last_hidden_state = outputs.hidden_states[-1]  # Access last layer’s hidden states\n",
    "        cls_hidden_state = last_hidden_state[:, 0, :]\n",
    "        output = self.regression_head(cls_hidden_state)\n",
    "        return output.squeeze(-1)\n",
    "    \n",
    "class MoLFormerWithRegressionHead(PreTrainedModel):\n",
    "    def __init__(self, pretrained_model, config=None):\n",
    "        # If no config is provided, use the pretrained model's config\n",
    "        if config is None:\n",
    "            config = pretrained_model.config\n",
    "            \n",
    "        super().__init__(config)  # Initialize with config\n",
    "        self.backbone = pretrained_model  # Use the pre-trained MoLFormer model as the backbone\n",
    "        \n",
    "        # Get the hidden size from the config\n",
    "        hidden_size = self.backbone.config.hidden_size\n",
    "        \n",
    "        # Define a regression head: Fully connected layer that outputs a single value\n",
    "        self.regression_head = nn.Linear(hidden_size, 1)\n",
    "        \n",
    "        # Ensure the backbone's parameters are part of this model's parameters\n",
    "        self.config = config\n",
    "\n",
    "    def forward(self, input_ids, attention_mask):\n",
    "        # Forward pass through the pre-trained model\n",
    "        outputs = self.backbone(input_ids=input_ids, attention_mask=attention_mask)\n",
    "        \n",
    "        # Get the last hidden state of the [CLS] token\n",
    "        last_hidden_state = outputs.last_hidden_state  # Shape: (batch_size, sequence_length, hidden_size)\n",
    "        \n",
    "        # We use the hidden state corresponding to the [CLS] token for regression\n",
    "        cls_hidden_state = last_hidden_state[:, 0, :]  # Shape: (batch_size, hidden_size)\n",
    "        \n",
    "        # Pass through the regression head\n",
    "        output = self.regression_head(cls_hidden_state)  # Shape: (batch_size, 1)\n",
    "        \n",
    "        # Flatten the output to (batch_size,) for regression\n",
    "        return output.squeeze(-1)"
   ]
  },
  {
   "cell_type": "code",
   "execution_count": 5,
   "metadata": {},
   "outputs": [],
   "source": [
    "class Dataset(Dataset):\n",
    "    def __init__(self, data):\n",
    "        self.smiles = data['SMILES'].values\n",
    "        self.label = data['label'].values\n",
    "    \n",
    "    def __len__(self):\n",
    "        return(len(self.smiles))\n",
    "    \n",
    "    def __getitem__(self, idx):\n",
    "        smile = self.smiles[idx]\n",
    "        value = self.label[idx]\n",
    "        \n",
    "        return smile,value"
   ]
  },
  {
   "cell_type": "code",
   "execution_count": 6,
   "metadata": {},
   "outputs": [],
   "source": [
    "def collate_fn(batch):\n",
    "    \"\"\"\n",
    "    Collate function for the DataLoader\n",
    "    \"\"\"\n",
    "    smile, value = zip(*batch)\n",
    "    return list(smile), list(value)"
   ]
  },
  {
   "cell_type": "markdown",
   "metadata": {},
   "source": [
    "## Task2 functions\n"
   ]
  },
  {
   "cell_type": "code",
   "execution_count": 31,
   "metadata": {},
   "outputs": [],
   "source": [
    "def calc_grad(smile, value):\n",
    "    \"\"\"\n",
    "    Computes the gradient with respect to an input\n",
    "    \"\"\"\n",
    "    \n",
    "    value = value.float().to(device)\n",
    "    smile = token(smile, padding = True, return_tensors = 'pt').to(device)\n",
    "    \n",
    "    # Pass 1 training point forward        \n",
    "    optimizer.zero_grad()\n",
    "    predict = model(**smile)\n",
    "    loss = criterion(predict , value)\n",
    "    loss.backward(create_graph = True)\n",
    "    \n",
    "    # Get the grads for the training point\n",
    "    grad = [param.grad.clone() for param in model.parameters() if param.grad is not None]\n",
    "    \n",
    "    return grad"
   ]
  },
  {
   "cell_type": "code",
   "execution_count": null,
   "metadata": {},
   "outputs": [],
   "source": [
    "def lissa(s1, s2, model, ihvp, damp_fac: float = 0.001):\n",
    "    \"\"\"\n",
    "    Computes the LiSSA approximation to get the hessian inverse.\n",
    "    This implementation is based on \n",
    "        Second-Order Stochastic Optimization for Machine Learning in Linear Time\n",
    "        Understanding Black-box Predictions via Influence Function\n",
    "\n",
    "    Args:\n",
    "        s1 (int): Number of Hessian inverse estimators to create\n",
    "        s2 (int): The depth of the  Taylor expansion in estimators\n",
    "        ihvp (lis[torch.Tensor]): List of torch.zeros. Shape must be same as grads from the model\n",
    "        damp_fac (float, optional): Damping factor to be used in the calculation. Defaults to 0.001.\n",
    "\n",
    "    Returns:\n",
    "        list[torch.Tensor]: Hessian inverse approximation\n",
    "    \"\"\"\n",
    "    \n",
    "    parameters = [p for p in model.parameters() if p.grad is not None]\n",
    "    # No of hessian inverse estimators\n",
    "    for j in range(s1):\n",
    "        z = random.choice(list(ext2_loader))\n",
    "        \n",
    "        # No. of iterations for each estimator\n",
    "        for i in range(s2):\n",
    "            match i:\n",
    "                case 0:\n",
    "                    # v is the loss grad for a training point\n",
    "                    v = calc_grad(smile = z[0], value = z[1])\n",
    "                    \n",
    "                    # At the start of h_inv recursion, h_inv*v = v\n",
    "                    h_inv = calc_grad(smile = z[0], value = z[1])\n",
    "                    \n",
    "                case _:\n",
    "                    # From the next iteration, random training points are chosen and grad calculated\n",
    "                    # We take 16 random points and get the avged grad\n",
    "                    t_point = random.choice(list(ext1_loader))\n",
    "                    t_point_grad = calc_grad(smile = t_point[0], value = t_point[1])\n",
    "                    \n",
    "                    \n",
    "                    # This is the recursion\n",
    "                    # h_inv(j)v = v + (I - grad^2) * h_inv(j-1)v\n",
    "                    \n",
    "                    #           = v + (h_inv(j-1)v - grad^2*h_inv(j-1)v)\n",
    "                    #                                This is HVP. Calculcating it\n",
    "                    # model parameters should be updated based on the training points being used.\n",
    "                    parameters = [p for p in model.parameters() if p.grad is not None]\n",
    "                    # https://stackoverflow.com/questions/74889490/a-faster-hessian-vector-product-in-pytorch\n",
    "                    # Kind of found about doing HVP with grad from here\n",
    "                    hvp = torch.autograd.grad(outputs=t_point_grad, inputs=parameters,\n",
    "                                            grad_outputs=h_inv, retain_graph=True)\n",
    "                    \n",
    "                    #           = v + (h_inv(j-1)v - h_inv(j-1)v*grad^2)\n",
    "                    #                  Computing the subtraction\n",
    "                    subt = [h_inv[i] - hvp[i]*damp_fac for i in range(len(h_inv))]\n",
    "                    \n",
    "                    #           = v + (h_inv(j-1)v - h_inv(j-1)v*grad^2)\n",
    "                    #             Computing the addition\n",
    "                    h_inv = [v[i] + subt[i] for i in range(len(v))]\n",
    "        \n",
    "        # In each iteration,\n",
    "        ihvp = [i+j for i,j in zip(ihvp,h_inv)]\n",
    "        \n",
    "    ihvp = [i/s1 for i in ihvp]\n",
    "    return ihvp\n",
    "        "
   ]
  },
  {
   "cell_type": "markdown",
   "metadata": {},
   "source": [
    "# Initialization"
   ]
  },
  {
   "cell_type": "code",
   "execution_count": 9,
   "metadata": {},
   "outputs": [],
   "source": [
    "DATASET_PATH = \"scikit-fingerprints/MoleculeNet_Lipophilicity\"\n",
    "dataset = load_dataset(DATASET_PATH)\n",
    "data = dataset['train'].to_pandas()"
   ]
  },
  {
   "cell_type": "code",
   "execution_count": null,
   "metadata": {},
   "outputs": [],
   "source": [
    "EXTERNAL_DATA_LOCATION = 'External-Dataset_for_Task2.csv'\n",
    "ext_data = pd.read_csv(EXTERNAL_DATA_LOCATION)\n",
    "ext_data.rename({'Label' : 'label'}, inplace = True, axis = 1)"
   ]
  },
  {
   "cell_type": "code",
   "execution_count": null,
   "metadata": {},
   "outputs": [],
   "source": [
    "# Cannot upload models\n",
    "# This is the path for the pretrainedMLM model which was fine tuned in task1\n",
    "MODEL_NAME = \"molformer_pretrainedMLM\" \n",
    "#MODEL_NAME = 'ibm/MoLFormer-XL-both-10pct'\n",
    "device = torch.device(\"cuda\" if torch.cuda.is_available() else \"cpu\")\n",
    "pre_model = AutoModelForMaskedLM.from_pretrained(MODEL_NAME, deterministic_eval=True, trust_remote_code=True).to(device)\n",
    "model = MoLFormerMLMWithRegressionHead(pre_model).to(device)\n",
    "token = AutoTokenizer.from_pretrained(MODEL_NAME, trust_remote_code=True)"
   ]
  },
  {
   "cell_type": "code",
   "execution_count": 16,
   "metadata": {},
   "outputs": [],
   "source": [
    "lr = 0.001\n",
    "wt_decay = 1e-5\n",
    "criterion = nn.MSELoss()\n",
    "optimizer = torch.optim.Adam(model.parameters(), lr=lr, weight_decay=wt_decay)"
   ]
  },
  {
   "cell_type": "code",
   "execution_count": 13,
   "metadata": {},
   "outputs": [],
   "source": [
    "ext_df   = Dataset(ext_data)\n",
    "# Used inside LiSSA. The paper mentions using batch avg grad is better\n",
    "ext1_loader   = DataLoader(ext_df, batch_size = 16)\n",
    "\n",
    "# Used to find the influence of each point\n",
    "ext2_loader   = DataLoader(ext_df, batch_size = 1)"
   ]
  },
  {
   "cell_type": "markdown",
   "metadata": {},
   "source": [
    "# Algorithm"
   ]
  },
  {
   "cell_type": "code",
   "execution_count": 33,
   "metadata": {},
   "outputs": [
    {
     "name": "stderr",
     "output_type": "stream",
     "text": [
      "  0%|          | 0/300 [00:00<?, ?it/s]"
     ]
    },
    {
     "name": "stderr",
     "output_type": "stream",
     "text": [
      "100%|██████████| 300/300 [52:39<00:00, 10.53s/it]\n"
     ]
    }
   ],
   "source": [
    "influence_list = []\n",
    "\n",
    "for z in tqdm(ext2_loader):\n",
    "    # Calculate the grad for the point for which the influence is being calculated\n",
    "    z_grad = calc_grad(smile = z[0], value = z[1])\n",
    "    \n",
    "    # initiate the Hessian inverse\n",
    "    ihvp = [torch.zeros_like(i) for i in z_grad]\n",
    "    ihvp = lissa(s1 = 5, s2 = 10, ihvp = ihvp, model = model)\n",
    "    \n",
    "    # Multiplying the Hessian inverse by the \n",
    "    influence = sum([(g * i).sum().item() for g, i in zip(ihvp, z_grad)])\n",
    "    \n",
    "    influence_list.append([z[0][0], float(z[1]), influence])"
   ]
  },
  {
   "cell_type": "markdown",
   "metadata": {},
   "source": [
    "# Results"
   ]
  },
  {
   "cell_type": "code",
   "execution_count": 104,
   "metadata": {},
   "outputs": [],
   "source": [
    "influence_df = pd.DataFrame(influence_list, columns = ['SMILE', 'label', 'Influence'])\n",
    "influence_df.to_csv('Influence.tsv', sep = '\\t', index = False)"
   ]
  },
  {
   "cell_type": "code",
   "execution_count": 24,
   "metadata": {},
   "outputs": [
    {
     "data": {
      "image/png": "[encoded data removed]",
      "text/plain": [
       "<Figure size 640x480 with 1 Axes>"
      ]
     },
     "metadata": {},
     "output_type": "display_data"
    }
   ],
   "source": [
    "influence_df0 = influence_df[\"Influence\"][influence_df[\"Influence\"] > 0]\n",
    "# Influence histogram\n",
    "plt.hist(influence_df0, bins=100, edgecolor='black', alpha=0.7)  # Adjust bins as needed\n",
    "plt.xlabel(\"Value Range\")\n",
    "plt.ylabel(\"Frequency\")\n",
    "plt.title(\"Histogram of Influence Values\")\n",
    "plt.show()"
   ]
  },
  {
   "cell_type": "code",
   "execution_count": null,
   "metadata": {},
   "outputs": [],
   "source": [
    "influence_df = influence_df[influence_df[\"Influence\"] > 0]\n",
    "influence_df['len'] = influence_df['SMILE'].str.len()"
   ]
  },
  {
   "cell_type": "code",
   "execution_count": 34,
   "metadata": {},
   "outputs": [
    {
     "data": {
      "text/plain": [
       "Text(0.5, 1.0, 'Length vs Influence')"
      ]
     },
     "execution_count": 34,
     "metadata": {},
     "output_type": "execute_result"
    },
    {
     "data": {
      "image/png": "[encoded data removed]",
      "text/plain": [
       "<Figure size 1500x500 with 2 Axes>"
      ]
     },
     "metadata": {},
     "output_type": "display_data"
    }
   ],
   "source": [
    "fig, (ax1, ax2) = plt.subplots(1, 2, figsize=(15, 5))\n",
    "\n",
    "ax1.scatter(influence_df['label'], influence_df['Influence'])\n",
    "ax1.set_xlabel('Lipo values')\n",
    "ax1.set_ylabel('Influence')\n",
    "ax1.set_title('Lipo vs Influence')\n",
    "\n",
    "ax2.scatter(influence_df['len'], influence_df['Influence'])\n",
    "ax2.set_xlabel('SMILE length')\n",
    "#ax2.set_ylabel('Influence')\n",
    "ax2.set_title('Length vs Influence')"
   ]
  },
  {
   "cell_type": "markdown",
   "metadata": {},
   "source": [
    "Choosing an appropriate cutoff based on the histogram. There is a dropoff at 50000. We will consider this as our cutoff."
   ]
  },
  {
   "cell_type": "code",
   "execution_count": 106,
   "metadata": {},
   "outputs": [],
   "source": [
    "threshold = 50000\n",
    "influence_best_df = influence_df[influence_df[\"Influence\"] > threshold]"
   ]
  },
  {
   "cell_type": "code",
   "execution_count": 107,
   "metadata": {},
   "outputs": [],
   "source": [
    "influence_best_df.to_csv('Best_influence.tsv', sep = '\\t', index = False)"
   ]
  },
  {
   "cell_type": "markdown",
   "metadata": {},
   "source": [
    "Combining these best points to the training dataset"
   ]
  },
  {
   "cell_type": "code",
   "execution_count": 108,
   "metadata": {},
   "outputs": [],
   "source": [
    "influence_best_df = influence_best_df[['SMILE', 'label']]\n",
    "influence_best_df.rename({'SMILE' : 'SMILES'}, axis = 1, inplace = True)\n",
    "\n",
    "combined_df = pd.concat([data, influence_best_df], axis = 0)\n",
    "combined_df.to_csv('new_train_data.tsv', sep = '\\t', index = False)"
   ]
  },
  {
   "cell_type": "markdown",
   "metadata": {},
   "source": [
    "# Fine-tuning on MLM Task"
   ]
  },
  {
   "cell_type": "markdown",
   "metadata": {},
   "source": [
    "Refer to Task1. These functions/classes taken directly from Task1"
   ]
  },
  {
   "cell_type": "code",
   "execution_count": 10,
   "metadata": {},
   "outputs": [],
   "source": [
    "NEW_DATA_LOCATION = 'new_train_data.tsv'\n",
    "ext_data = pd.read_csv(NEW_DATA_LOCATION, sep = '\\t')\n",
    "#ext_data.rename({'Label' : 'label'}, inplace = True, axis = 1)"
   ]
  },
  {
   "cell_type": "code",
   "execution_count": 23,
   "metadata": {},
   "outputs": [],
   "source": [
    "MODEL_NAME = 'ibm/MoLFormer-XL-both-10pct'\n",
    "device = torch.device(\"cuda\" if torch.cuda.is_available() else \"cpu\")\n",
    "model = AutoModelForMaskedLM.from_pretrained(MODEL_NAME, deterministic_eval=True, trust_remote_code=True).to(device)\n",
    "#model = MoLFormerMLMWithRegressionHead(pre_model).to(device)\n",
    "token = AutoTokenizer.from_pretrained(MODEL_NAME, trust_remote_code=True)"
   ]
  },
  {
   "cell_type": "code",
   "execution_count": 13,
   "metadata": {},
   "outputs": [],
   "source": [
    "class MLMDataset(Dataset):\n",
    "    def __init__(self, smiles_list, tokenizer):\n",
    "        self.tokenizer = tokenizer\n",
    "        self.smiles = smiles_list\n",
    "        \n",
    "    def __len__(self):\n",
    "        return len(self.smiles)\n",
    "    \n",
    "    def __getitem__(self, idx):\n",
    "        encoding = self.tokenizer(\n",
    "            self.smiles[idx],\n",
    "            padding='max_length',\n",
    "            truncation=True,\n",
    "            max_length=512,\n",
    "            return_tensors='pt'\n",
    "        )\n",
    "        \n",
    "        return {\n",
    "            'input_ids': encoding['input_ids'].squeeze(),\n",
    "            'attention_mask': encoding['attention_mask'].squeeze(),\n",
    "        }"
   ]
  },
  {
   "cell_type": "code",
   "execution_count": null,
   "metadata": {},
   "outputs": [],
   "source": [
    "# From task 1\n",
    "def unsupervised_finetuning(model, train_df, tokenizer, device, \n",
    "                            num_epochs=5, batch_size=16, learning_rate=1e-5, patience=5):\n",
    "    \"\"\"\n",
    "    Perform unsupervised fine-tuning using MLM objective with early stopping and best model saving.\n",
    "    \"\"\"\n",
    "    print(\"Starting unsupervised fine-tuning...\")\n",
    "\n",
    "    # Create MLM dataset and dataloader\n",
    "    mlm_dataset = MLMDataset(train_df['SMILES'].tolist(), tokenizer)\n",
    "    mlm_dataloader = DataLoader(mlm_dataset, batch_size=batch_size, shuffle=True)\n",
    "    \n",
    "    # Data collator for MLM\n",
    "    data_collator = DataCollatorForLanguageModeling(tokenizer=tokenizer, mlm=True, mlm_probability=0.15)\n",
    "    \n",
    "    # Optimizer\n",
    "    optimizer = AdamW(model.parameters(), lr=learning_rate)\n",
    "\n",
    "    # Tracking best model\n",
    "    best_loss = np.inf  # Initialize best loss as infinity\n",
    "    best_model_path = \"./molformer_pretrainedMLM_withInfluence\"\n",
    "    os.makedirs(best_model_path, exist_ok=True)\n",
    "    \n",
    "    # Early stopping variables\n",
    "    patience_counter = 0\n",
    "\n",
    "    # Training loop\n",
    "    model.train()\n",
    "    \n",
    "    for epoch in range(num_epochs):\n",
    "        total_loss = 0\n",
    "        steps = 0\n",
    "        train_iterator = tqdm(mlm_dataloader, desc=f\"MLM Epoch {epoch + 1}/{num_epochs}\")\n",
    "        \n",
    "        for batch in train_iterator:\n",
    "            # Prepare MLM inputs\n",
    "            mlm_inputs = data_collator([{\n",
    "                'input_ids': ids,\n",
    "                'attention_mask': mask\n",
    "            } for ids, mask in zip(batch['input_ids'], batch['attention_mask'])])\n",
    "            \n",
    "            # Move tensors to device\n",
    "            input_ids = mlm_inputs['input_ids'].to(device)\n",
    "            attention_mask = mlm_inputs['attention_mask'].to(device)\n",
    "            labels = mlm_inputs['labels'].to(device)\n",
    "\n",
    "            # Zero gradients\n",
    "            optimizer.zero_grad()\n",
    "\n",
    "            # Forward pass\n",
    "            outputs = model(input_ids=input_ids, attention_mask=attention_mask, labels=labels)\n",
    "            loss = outputs.loss\n",
    "\n",
    "            # Backward pass and optimization\n",
    "            loss.backward()\n",
    "            optimizer.step()\n",
    "\n",
    "            total_loss += loss.item()\n",
    "            steps += 1\n",
    "\n",
    "            # Update progress bar\n",
    "            train_iterator.set_postfix({'mlm_loss': '{:.3f}'.format(loss.item())})\n",
    "\n",
    "        # Compute average loss for the epoch\n",
    "        avg_loss = total_loss / steps\n",
    "        print(f\"\\nEpoch {epoch + 1} - Average MLM Loss: {avg_loss:.3f}\")\n",
    "\n",
    "        # Check if this is the best model so far\n",
    "        if avg_loss < best_loss:\n",
    "            print(f\"New best model found! Saving to {best_model_path}...\")\n",
    "            best_loss = avg_loss\n",
    "            patience_counter = 0  # Reset patience\n",
    "            model.save_pretrained(best_model_path)\n",
    "            tokenizer.save_pretrained(best_model_path)\n",
    "        else:\n",
    "            patience_counter += 1\n",
    "            print(f\"No improvement for {patience_counter}/{patience} epochs.\")\n",
    "\n",
    "        # Early stopping condition\n",
    "        if patience_counter >= patience:\n",
    "            print(\"Early stopping triggered. Training stopped.\")\n",
    "            break\n",
    "\n",
    "    print(f\"Best model saved with MLM Loss: {best_loss:.3f}\")\n",
    "    return model"
   ]
  },
  {
   "cell_type": "code",
   "execution_count": 24,
   "metadata": {},
   "outputs": [
    {
     "name": "stdout",
     "output_type": "stream",
     "text": [
      "Starting unsupervised fine-tuning...\n"
     ]
    },
    {
     "name": "stderr",
     "output_type": "stream",
     "text": [
      "MLM Epoch 1/30: 100%|██████████| 266/266 [01:13<00:00,  3.62it/s, mlm_loss=0.083]\n"
     ]
    },
    {
     "name": "stdout",
     "output_type": "stream",
     "text": [
      "\n",
      "Epoch 1 - Average MLM Loss: 0.407\n",
      "New best model found! Saving to ./molformer_pretrainedMLM_withInfluence...\n"
     ]
    },
    {
     "name": "stderr",
     "output_type": "stream",
     "text": [
      "MLM Epoch 2/30: 100%|██████████| 266/266 [01:12<00:00,  3.67it/s, mlm_loss=0.220]\n"
     ]
    },
    {
     "name": "stdout",
     "output_type": "stream",
     "text": [
      "\n",
      "Epoch 2 - Average MLM Loss: 0.263\n",
      "New best model found! Saving to ./molformer_pretrainedMLM_withInfluence...\n"
     ]
    },
    {
     "name": "stderr",
     "output_type": "stream",
     "text": [
      "MLM Epoch 3/30: 100%|██████████| 266/266 [01:12<00:00,  3.68it/s, mlm_loss=0.176]\n"
     ]
    },
    {
     "name": "stdout",
     "output_type": "stream",
     "text": [
      "\n",
      "Epoch 3 - Average MLM Loss: 0.223\n",
      "New best model found! Saving to ./molformer_pretrainedMLM_withInfluence...\n"
     ]
    },
    {
     "name": "stderr",
     "output_type": "stream",
     "text": [
      "MLM Epoch 4/30: 100%|██████████| 266/266 [01:12<00:00,  3.67it/s, mlm_loss=0.199]\n"
     ]
    },
    {
     "name": "stdout",
     "output_type": "stream",
     "text": [
      "\n",
      "Epoch 4 - Average MLM Loss: 0.202\n",
      "New best model found! Saving to ./molformer_pretrainedMLM_withInfluence...\n"
     ]
    },
    {
     "name": "stderr",
     "output_type": "stream",
     "text": [
      "MLM Epoch 5/30: 100%|██████████| 266/266 [01:12<00:00,  3.68it/s, mlm_loss=0.050]\n"
     ]
    },
    {
     "name": "stdout",
     "output_type": "stream",
     "text": [
      "\n",
      "Epoch 5 - Average MLM Loss: 0.184\n",
      "New best model found! Saving to ./molformer_pretrainedMLM_withInfluence...\n"
     ]
    },
    {
     "name": "stderr",
     "output_type": "stream",
     "text": [
      "MLM Epoch 6/30: 100%|██████████| 266/266 [01:12<00:00,  3.69it/s, mlm_loss=0.037]\n"
     ]
    },
    {
     "name": "stdout",
     "output_type": "stream",
     "text": [
      "\n",
      "Epoch 6 - Average MLM Loss: 0.176\n",
      "New best model found! Saving to ./molformer_pretrainedMLM_withInfluence...\n"
     ]
    },
    {
     "name": "stderr",
     "output_type": "stream",
     "text": [
      "MLM Epoch 7/30: 100%|██████████| 266/266 [01:12<00:00,  3.69it/s, mlm_loss=0.184]\n"
     ]
    },
    {
     "name": "stdout",
     "output_type": "stream",
     "text": [
      "\n",
      "Epoch 7 - Average MLM Loss: 0.180\n",
      "No improvement for 1/5 epochs.\n"
     ]
    },
    {
     "name": "stderr",
     "output_type": "stream",
     "text": [
      "MLM Epoch 8/30: 100%|██████████| 266/266 [01:12<00:00,  3.69it/s, mlm_loss=0.075]\n"
     ]
    },
    {
     "name": "stdout",
     "output_type": "stream",
     "text": [
      "\n",
      "Epoch 8 - Average MLM Loss: 0.169\n",
      "New best model found! Saving to ./molformer_pretrainedMLM_withInfluence...\n"
     ]
    },
    {
     "name": "stderr",
     "output_type": "stream",
     "text": [
      "MLM Epoch 9/30: 100%|██████████| 266/266 [01:12<00:00,  3.69it/s, mlm_loss=0.117]\n"
     ]
    },
    {
     "name": "stdout",
     "output_type": "stream",
     "text": [
      "\n",
      "Epoch 9 - Average MLM Loss: 0.164\n",
      "New best model found! Saving to ./molformer_pretrainedMLM_withInfluence...\n"
     ]
    },
    {
     "name": "stderr",
     "output_type": "stream",
     "text": [
      "MLM Epoch 10/30: 100%|██████████| 266/266 [01:12<00:00,  3.69it/s, mlm_loss=0.004]\n"
     ]
    },
    {
     "name": "stdout",
     "output_type": "stream",
     "text": [
      "\n",
      "Epoch 10 - Average MLM Loss: 0.154\n",
      "New best model found! Saving to ./molformer_pretrainedMLM_withInfluence...\n"
     ]
    },
    {
     "name": "stderr",
     "output_type": "stream",
     "text": [
      "MLM Epoch 11/30: 100%|██████████| 266/266 [01:12<00:00,  3.69it/s, mlm_loss=0.044]\n"
     ]
    },
    {
     "name": "stdout",
     "output_type": "stream",
     "text": [
      "\n",
      "Epoch 11 - Average MLM Loss: 0.152\n",
      "New best model found! Saving to ./molformer_pretrainedMLM_withInfluence...\n"
     ]
    },
    {
     "name": "stderr",
     "output_type": "stream",
     "text": [
      "MLM Epoch 12/30: 100%|██████████| 266/266 [01:12<00:00,  3.69it/s, mlm_loss=0.040]\n"
     ]
    },
    {
     "name": "stdout",
     "output_type": "stream",
     "text": [
      "\n",
      "Epoch 12 - Average MLM Loss: 0.145\n",
      "New best model found! Saving to ./molformer_pretrainedMLM_withInfluence...\n"
     ]
    },
    {
     "name": "stderr",
     "output_type": "stream",
     "text": [
      "MLM Epoch 13/30: 100%|██████████| 266/266 [01:12<00:00,  3.68it/s, mlm_loss=0.007]\n"
     ]
    },
    {
     "name": "stdout",
     "output_type": "stream",
     "text": [
      "\n",
      "Epoch 13 - Average MLM Loss: 0.145\n",
      "No improvement for 1/5 epochs.\n"
     ]
    },
    {
     "name": "stderr",
     "output_type": "stream",
     "text": [
      "MLM Epoch 14/30: 100%|██████████| 266/266 [01:12<00:00,  3.69it/s, mlm_loss=0.079]\n"
     ]
    },
    {
     "name": "stdout",
     "output_type": "stream",
     "text": [
      "\n",
      "Epoch 14 - Average MLM Loss: 0.140\n",
      "New best model found! Saving to ./molformer_pretrainedMLM_withInfluence...\n"
     ]
    },
    {
     "name": "stderr",
     "output_type": "stream",
     "text": [
      "MLM Epoch 15/30: 100%|██████████| 266/266 [01:12<00:00,  3.67it/s, mlm_loss=0.045]\n"
     ]
    },
    {
     "name": "stdout",
     "output_type": "stream",
     "text": [
      "\n",
      "Epoch 15 - Average MLM Loss: 0.132\n",
      "New best model found! Saving to ./molformer_pretrainedMLM_withInfluence...\n"
     ]
    },
    {
     "name": "stderr",
     "output_type": "stream",
     "text": [
      "MLM Epoch 16/30: 100%|██████████| 266/266 [01:12<00:00,  3.68it/s, mlm_loss=0.053]\n"
     ]
    },
    {
     "name": "stdout",
     "output_type": "stream",
     "text": [
      "\n",
      "Epoch 16 - Average MLM Loss: 0.132\n",
      "No improvement for 1/5 epochs.\n"
     ]
    },
    {
     "name": "stderr",
     "output_type": "stream",
     "text": [
      "MLM Epoch 17/30: 100%|██████████| 266/266 [01:12<00:00,  3.68it/s, mlm_loss=0.217]\n"
     ]
    },
    {
     "name": "stdout",
     "output_type": "stream",
     "text": [
      "\n",
      "Epoch 17 - Average MLM Loss: 0.128\n",
      "New best model found! Saving to ./molformer_pretrainedMLM_withInfluence...\n"
     ]
    },
    {
     "name": "stderr",
     "output_type": "stream",
     "text": [
      "MLM Epoch 18/30: 100%|██████████| 266/266 [01:12<00:00,  3.68it/s, mlm_loss=0.037]\n"
     ]
    },
    {
     "name": "stdout",
     "output_type": "stream",
     "text": [
      "\n",
      "Epoch 18 - Average MLM Loss: 0.125\n",
      "New best model found! Saving to ./molformer_pretrainedMLM_withInfluence...\n"
     ]
    },
    {
     "name": "stderr",
     "output_type": "stream",
     "text": [
      "MLM Epoch 19/30: 100%|██████████| 266/266 [01:12<00:00,  3.69it/s, mlm_loss=0.060]\n"
     ]
    },
    {
     "name": "stdout",
     "output_type": "stream",
     "text": [
      "\n",
      "Epoch 19 - Average MLM Loss: 0.126\n",
      "No improvement for 1/5 epochs.\n"
     ]
    },
    {
     "name": "stderr",
     "output_type": "stream",
     "text": [
      "MLM Epoch 20/30: 100%|██████████| 266/266 [01:12<00:00,  3.68it/s, mlm_loss=0.004]\n"
     ]
    },
    {
     "name": "stdout",
     "output_type": "stream",
     "text": [
      "\n",
      "Epoch 20 - Average MLM Loss: 0.126\n",
      "No improvement for 2/5 epochs.\n"
     ]
    },
    {
     "name": "stderr",
     "output_type": "stream",
     "text": [
      "MLM Epoch 21/30: 100%|██████████| 266/266 [01:12<00:00,  3.68it/s, mlm_loss=0.000]\n"
     ]
    },
    {
     "name": "stdout",
     "output_type": "stream",
     "text": [
      "\n",
      "Epoch 21 - Average MLM Loss: 0.124\n",
      "New best model found! Saving to ./molformer_pretrainedMLM_withInfluence...\n"
     ]
    },
    {
     "name": "stderr",
     "output_type": "stream",
     "text": [
      "MLM Epoch 22/30: 100%|██████████| 266/266 [01:12<00:00,  3.68it/s, mlm_loss=0.150]\n"
     ]
    },
    {
     "name": "stdout",
     "output_type": "stream",
     "text": [
      "\n",
      "Epoch 22 - Average MLM Loss: 0.122\n",
      "New best model found! Saving to ./molformer_pretrainedMLM_withInfluence...\n"
     ]
    },
    {
     "name": "stderr",
     "output_type": "stream",
     "text": [
      "MLM Epoch 23/30: 100%|██████████| 266/266 [01:12<00:00,  3.68it/s, mlm_loss=0.056]\n"
     ]
    },
    {
     "name": "stdout",
     "output_type": "stream",
     "text": [
      "\n",
      "Epoch 23 - Average MLM Loss: 0.125\n",
      "No improvement for 1/5 epochs.\n"
     ]
    },
    {
     "name": "stderr",
     "output_type": "stream",
     "text": [
      "MLM Epoch 24/30: 100%|██████████| 266/266 [01:12<00:00,  3.68it/s, mlm_loss=0.361]\n"
     ]
    },
    {
     "name": "stdout",
     "output_type": "stream",
     "text": [
      "\n",
      "Epoch 24 - Average MLM Loss: 0.111\n",
      "New best model found! Saving to ./molformer_pretrainedMLM_withInfluence...\n"
     ]
    },
    {
     "name": "stderr",
     "output_type": "stream",
     "text": [
      "MLM Epoch 25/30: 100%|██████████| 266/266 [01:12<00:00,  3.68it/s, mlm_loss=0.079]\n"
     ]
    },
    {
     "name": "stdout",
     "output_type": "stream",
     "text": [
      "\n",
      "Epoch 25 - Average MLM Loss: 0.119\n",
      "No improvement for 1/5 epochs.\n"
     ]
    },
    {
     "name": "stderr",
     "output_type": "stream",
     "text": [
      "MLM Epoch 26/30: 100%|██████████| 266/266 [01:12<00:00,  3.68it/s, mlm_loss=0.002]\n"
     ]
    },
    {
     "name": "stdout",
     "output_type": "stream",
     "text": [
      "\n",
      "Epoch 26 - Average MLM Loss: 0.114\n",
      "No improvement for 2/5 epochs.\n"
     ]
    },
    {
     "name": "stderr",
     "output_type": "stream",
     "text": [
      "MLM Epoch 27/30: 100%|██████████| 266/266 [01:12<00:00,  3.68it/s, mlm_loss=0.277]\n"
     ]
    },
    {
     "name": "stdout",
     "output_type": "stream",
     "text": [
      "\n",
      "Epoch 27 - Average MLM Loss: 0.114\n",
      "No improvement for 3/5 epochs.\n"
     ]
    },
    {
     "name": "stderr",
     "output_type": "stream",
     "text": [
      "MLM Epoch 28/30: 100%|██████████| 266/266 [01:12<00:00,  3.68it/s, mlm_loss=0.054]\n"
     ]
    },
    {
     "name": "stdout",
     "output_type": "stream",
     "text": [
      "\n",
      "Epoch 28 - Average MLM Loss: 0.118\n",
      "No improvement for 4/5 epochs.\n"
     ]
    },
    {
     "name": "stderr",
     "output_type": "stream",
     "text": [
      "MLM Epoch 29/30: 100%|██████████| 266/266 [01:12<00:00,  3.68it/s, mlm_loss=0.001]"
     ]
    },
    {
     "name": "stdout",
     "output_type": "stream",
     "text": [
      "\n",
      "Epoch 29 - Average MLM Loss: 0.114\n",
      "No improvement for 5/5 epochs.\n",
      "Early stopping triggered. Training stopped.\n",
      "Best model saved with MLM Loss: 0.111\n"
     ]
    },
    {
     "name": "stderr",
     "output_type": "stream",
     "text": [
      "\n"
     ]
    }
   ],
   "source": [
    "# Perform MLM fine-tuning\n",
    "mlm_model = unsupervised_finetuning(\n",
    "    model=model,\n",
    "    train_df=ext_data,\n",
    "    tokenizer=token,\n",
    "    device=device,\n",
    "    num_epochs=30,\n",
    "    patience=5  # Stops if no improvement for 5 epochs\n",
    ")"
   ]
  },
  {
   "cell_type": "markdown",
   "metadata": {},
   "source": [
    "# Fine Tuning on the Regression Task"
   ]
  },
  {
   "cell_type": "code",
   "execution_count": 3,
   "metadata": {},
   "outputs": [],
   "source": [
    "class Dataset(Dataset):\n",
    "    def __init__(self, data):\n",
    "        self.smiles = data['SMILES'].values\n",
    "        self.label = data['label'].values\n",
    "    \n",
    "    def __len__(self):\n",
    "        return(len(self.smiles))\n",
    "    \n",
    "    def __getitem__(self, idx):\n",
    "        smile = self.smiles[idx]\n",
    "        value = self.label[idx]\n",
    "        \n",
    "        return smile,value"
   ]
  },
  {
   "cell_type": "code",
   "execution_count": 4,
   "metadata": {},
   "outputs": [],
   "source": [
    "def collate_fn(batch):\n",
    "    \"\"\"\n",
    "    Collate function for the DataLoader\n",
    "    \"\"\"\n",
    "    smile, value = zip(*batch)\n",
    "    return list(smile), list(value)"
   ]
  },
  {
   "cell_type": "code",
   "execution_count": 5,
   "metadata": {},
   "outputs": [],
   "source": [
    "class trainer:\n",
    "    \n",
    "    def __init__(self, data: pd.DataFrame, model,token, device):\n",
    "        \"\"\"\n",
    "        Trainer initialization\n",
    "        \n",
    "        Parameters:\n",
    "        -----------\n",
    "        data: pd.DataFrame\n",
    "            col ['SMILES', 'label']\n",
    "            \n",
    "        **kwargs: Optional\n",
    "            - model_type (str): ['nofit', 'finefit]. Default is 'nofit'\n",
    "            \n",
    "        \"\"\"\n",
    "        \n",
    "        \n",
    "        print('Data initialization')\n",
    "        train_df, temp_df = train_test_split(data, test_size=0.3, random_state=42)\n",
    "        val_df, test_df = train_test_split(temp_df, test_size=1/3, random_state=42)\n",
    "        \n",
    "        print(f'Train Points: {len(train_df)}')\n",
    "        print(f'Valid Points: {len(val_df)}')\n",
    "        print(f'Test_Points: {len(test_df)}')\n",
    "\n",
    "        self.train_df = Dataset(train_df.iloc[:,:])\n",
    "        self.valid_df = Dataset(val_df.iloc[:,:])\n",
    "        self.test_df  = Dataset(test_df.iloc[:,:])\n",
    "        \n",
    "        self.model = model\n",
    "        self.device = device\n",
    "        self.pre_token = token\n",
    "        self.r2  = R2Score().to(self.device)\n",
    "        self.r2_score = 0\n",
    "        \n",
    "    def train(self, train_params: dict):\n",
    "        \"\"\"\n",
    "        Training\n",
    "        \n",
    "        Parameters:\n",
    "        -----------\n",
    "        train_params: dict\n",
    "            - epochs (int): No. of epochs\n",
    "            - lr (float) : Learning Rate\n",
    "            - wt_decay (float) : Weight Decay\n",
    "            - batch_size (int) : Batch Size\n",
    "        \"\"\"\n",
    "        \n",
    "        print('Training Starting...')\n",
    "        epochs = train_params['epochs']\n",
    "        lr = train_params['lr']\n",
    "        wt_decay = train_params['wt_decay']\n",
    "        batch_size = train_params['batch_size']\n",
    "        \n",
    "        self.optimizer = torch.optim.Adam(self.model.parameters(), lr=lr, weight_decay=wt_decay)\n",
    "        self.criterion = nn.MSELoss()\n",
    "        \n",
    "        self.train_loader = DataLoader(self.train_df, batch_size = batch_size)\n",
    "        self.valid_loader = DataLoader(self.valid_df, batch_size = batch_size)\n",
    "        self.test_loader = DataLoader(self.test_df, batch_size = batch_size)\n",
    "        \n",
    "        losses= {'Train': [], 'Valid': []}\n",
    "        for i in range(epochs):\n",
    "            \n",
    "            # Train\n",
    "            self.model.train()\n",
    "            train_loss = 0.0\n",
    "            with tqdm(total=len(self.train_loader)) as pbar:\n",
    "                pbar.set_description(f'Epoch: {i} - Train')\n",
    "                \n",
    "                for smiles, values in self.train_loader:\n",
    "                    values = torch.tensor(values , dtype = torch.float, device = self.device)\n",
    "                    smiles = self.pre_token(smiles, padding = True, return_tensors = 'pt').to(self.device)\n",
    "                    #print(smiles)\n",
    "                    \n",
    "                    self.optimizer.zero_grad()\n",
    "                    predict = self.model(**smiles)\n",
    "                    #print(predict)\n",
    "                    loss = self.criterion(predict, values)\n",
    "                    loss.backward()\n",
    "                    self.optimizer.step()\n",
    "                    \n",
    "                    train_loss += loss\n",
    "                    pbar.update(1)\n",
    "            losses['Train'].append(float(train_loss/len(self.train_loader)))\n",
    "            \n",
    "            # Valid\n",
    "            self.model.eval()\n",
    "            valid_loss = 0.0\n",
    "            with tqdm(total=len(self.valid_loader)) as pbar:\n",
    "                pbar.set_description(f'Epoch: {i} - Valid')\n",
    "                \n",
    "                for smiles, values in self.valid_loader:\n",
    "                    values = torch.tensor(values , dtype = torch.float, device = self.device)\n",
    "                    smiles = self.pre_token(smiles, padding = True, return_tensors = 'pt').to(self.device)\n",
    "                    \n",
    "                    self.optimizer.zero_grad()\n",
    "                    predict = self.model(**smiles)\n",
    "                    loss = self.criterion(predict, values)\n",
    "                    loss.backward()\n",
    "                    self.optimizer.step()\n",
    "                    \n",
    "                    valid_loss += loss\n",
    "                    pbar.update(1)\n",
    "            losses['Valid'].append(float(valid_loss/len(self.valid_loader)))\n",
    "            \n",
    "        self.loss_df = pd.DataFrame(losses)\n",
    "            \n",
    "    def test(self):\n",
    "        print('Testing Starting...')\n",
    "        \n",
    "        test_loss = 0.0\n",
    "        with tqdm(total=len(self.test_loader)) as pbar:\n",
    "            pbar.set_description('Testing')\n",
    "            self.pred_results = []\n",
    "            self.true_results = []\n",
    "            \n",
    "            for smiles, values in self.test_loader:\n",
    "                values = torch.tensor(values , dtype = torch.float, device = self.device)\n",
    "                smiles = self.pre_token(smiles, padding = True, return_tensors = 'pt').to(self.device)\n",
    "                \n",
    "                with torch.no_grad():\n",
    "                    predict = self.model(**smiles)\n",
    "                    loss = self.criterion(predict , values)\n",
    "\n",
    "                    \n",
    "                    # Prediction vs True values\n",
    "                    self.pred_results.extend(predict.cpu().numpy().tolist())\n",
    "                    self.true_results.extend(values.cpu().numpy().tolist())\n",
    "                    \n",
    "                # Loss for a batch\n",
    "                test_loss += loss.item()\n",
    "                self.r2_score  += self.r2(predict , values).item()\n",
    "                self.r2.reset()\n",
    "                pbar.update(1)\n",
    "                \n",
    "        # Avg loss over all batches this epoch\n",
    "        self.test_loss = test_loss / len(self.test_loader)\n",
    "        self.r2_score = self.r2_score / len(self.test_loader)\n",
    "        print(f'R2 : {self.r2_score}')\n",
    "        print(f'TEst Loss: {self.test_loss}')\n",
    "        \n",
    "        \n",
    "        # Doing a test with train dataset\n",
    "        with tqdm(total=len(self.train_loader)) as pbar:\n",
    "            pbar.set_description('Testing with Train Dataset')\n",
    "            self.Trainpred_results = []\n",
    "            self.Traintrue_results = []\n",
    "            \n",
    "            for smiles, values in self.train_loader:\n",
    "                values = torch.tensor(values , dtype = torch.float, device = self.device)\n",
    "                smiles = self.pre_token(smiles, padding = True, return_tensors = 'pt').to(self.device)\n",
    "                \n",
    "                with torch.no_grad():\n",
    "                    predict = self.model(**smiles)\n",
    "                    loss = self.criterion(predict , values)\n",
    "\n",
    "                    \n",
    "                    # Prediction vs True values\n",
    "                    self.Trainpred_results.extend(predict.cpu().numpy().tolist())\n",
    "                    self.Traintrue_results.extend(values.cpu().numpy().tolist())\n",
    "                    \n",
    "                pbar.update(1)\n",
    "    \n",
    "    def save(self, save_path):\n",
    "        \n",
    "        path = Path(save_path)\n",
    "        path.mkdir(parents=True, exist_ok=True)\n",
    "        \n",
    "        # Train Loss Plot\n",
    "        fig , ax = plt.subplots(1,1)\n",
    "        ax.plot(range(1, len(self.loss_df['Train'])+1) , self.loss_df['Train'])\n",
    "        ax.set_xlabel('Epochs')\n",
    "        ax.set_ylabel('Train Loss')\n",
    "        ax.grid(True)\n",
    "        fig.savefig(f'{save_path}/TrainLoss.png' , dpi = 300)\n",
    "        plt.close()\n",
    "        \n",
    "        # Valid Loss Plot\n",
    "        fig , ax = plt.subplots(1,1)\n",
    "        ax.plot(range(1, len(self.loss_df['Valid'])+1) , self.loss_df['Valid'])\n",
    "        ax.set_xlabel('Epochs')\n",
    "        ax.set_ylabel('Valid Loss')\n",
    "        ax.grid(True)\n",
    "        fig.savefig(f'{save_path}/ValidLoss.png' , dpi = 300)\n",
    "        plt.close()\n",
    "        \n",
    "        # Test prediction\n",
    "        fig , ax = plt.subplots(1,1)\n",
    "        ax.hexbin(x = self.true_results, y = self.pred_results, cmap = 'inferno', gridsize = 50)\n",
    "        ax.set_xlabel('True values')\n",
    "        ax.set_ylabel('Predicted values')\n",
    "        ax.grid(True)\n",
    "        \n",
    "        fig.savefig(f'{save_path}/Test_TrueVpred.png' , dpi = 300)\n",
    "        plt.close()\n",
    "        \n",
    "        # Train prediction\n",
    "        fig , ax = plt.subplots(1,1)\n",
    "        ax.hexbin(x = self.Traintrue_results, y = self.Trainpred_results, cmap = 'inferno', gridsize = 50)\n",
    "        ax.set_xlabel('True values')\n",
    "        ax.set_ylabel('Predicted values')\n",
    "        ax.grid(True)\n",
    "        \n",
    "        fig.savefig(f'{save_path}/Train_TrueVpred.png' , dpi = 300)\n",
    "        plt.close()"
   ]
  },
  {
   "cell_type": "code",
   "execution_count": 6,
   "metadata": {},
   "outputs": [],
   "source": [
    "# Cant upload models\n",
    "# This is the path to the model which was fine tuned with the extra data points.\n",
    "# The model from the previous task2 task\n",
    "MODEL_NAME = 'molformer_pretrainedMLM_withInfluence'\n",
    "device = torch.device(\"cuda\" if torch.cuda.is_available() else \"cpu\")\n",
    "model = AutoModel.from_pretrained(MODEL_NAME, deterministic_eval=True, trust_remote_code=True).to(device)\n",
    "#model = MoLFormerMLMWithRegressionHead(pre_model).to(device)\n",
    "token = AutoTokenizer.from_pretrained(MODEL_NAME, trust_remote_code=True)\n",
    "model = MoLFormerMLMWithRegressionHead(model).to(device)"
   ]
  },
  {
   "cell_type": "code",
   "execution_count": 7,
   "metadata": {},
   "outputs": [],
   "source": [
    "NEW_DATA_LOCATION = 'new_train_data.tsv'\n",
    "ext_data = pd.read_csv(NEW_DATA_LOCATION, sep = '\\t')"
   ]
  },
  {
   "cell_type": "code",
   "execution_count": 8,
   "metadata": {},
   "outputs": [],
   "source": [
    "# Train parameters\n",
    "train_params = {\n",
    "    'epochs'    : 30,\n",
    "    'lr'        : 0.0001,\n",
    "    'wt_decay'  : 1e-5,\n",
    "    'batch_size': 128\n",
    "}"
   ]
  },
  {
   "cell_type": "code",
   "execution_count": 9,
   "metadata": {},
   "outputs": [
    {
     "name": "stdout",
     "output_type": "stream",
     "text": [
      "Data initialization\n",
      "Train Points: 2969\n",
      "Valid Points: 848\n",
      "Test_Points: 425\n",
      "Training Starting...\n"
     ]
    },
    {
     "name": "stderr",
     "output_type": "stream",
     "text": [
      "Epoch: 0 - Train:   0%|          | 0/24 [00:00<?, ?it/s]"
     ]
    },
    {
     "name": "stderr",
     "output_type": "stream",
     "text": [
      "/tmp/ipykernel_48533/1602644077.py:72: UserWarning: To copy construct from a tensor, it is recommended to use sourceTensor.clone().detach() or sourceTensor.clone().detach().requires_grad_(True), rather than torch.tensor(sourceTensor).\n",
      "  values = torch.tensor(values , dtype = torch.float, device = self.device)\n",
      "Epoch: 0 - Train: 100%|██████████| 24/24 [00:09<00:00,  2.50it/s]\n",
      "Epoch: 0 - Valid:   0%|          | 0/7 [00:00<?, ?it/s]/tmp/ipykernel_48533/1602644077.py:94: UserWarning: To copy construct from a tensor, it is recommended to use sourceTensor.clone().detach() or sourceTensor.clone().detach().requires_grad_(True), rather than torch.tensor(sourceTensor).\n",
      "  values = torch.tensor(values , dtype = torch.float, device = self.device)\n",
      "Epoch: 0 - Valid: 100%|██████████| 7/7 [00:02<00:00,  2.61it/s]\n",
      "Epoch: 1 - Train: 100%|██████████| 24/24 [00:08<00:00,  2.88it/s]\n",
      "Epoch: 1 - Valid: 100%|██████████| 7/7 [00:02<00:00,  2.77it/s]\n",
      "Epoch: 2 - Train: 100%|██████████| 24/24 [00:08<00:00,  2.87it/s]\n",
      "Epoch: 2 - Valid: 100%|██████████| 7/7 [00:02<00:00,  2.77it/s]\n",
      "Epoch: 3 - Train: 100%|██████████| 24/24 [00:08<00:00,  2.89it/s]\n",
      "Epoch: 3 - Valid: 100%|██████████| 7/7 [00:02<00:00,  2.77it/s]\n",
      "Epoch: 4 - Train: 100%|██████████| 24/24 [00:08<00:00,  2.89it/s]\n",
      "Epoch: 4 - Valid: 100%|██████████| 7/7 [00:02<00:00,  2.78it/s]\n",
      "Epoch: 5 - Train: 100%|██████████| 24/24 [00:08<00:00,  2.90it/s]\n",
      "Epoch: 5 - Valid: 100%|██████████| 7/7 [00:02<00:00,  2.78it/s]\n",
      "Epoch: 6 - Train: 100%|██████████| 24/24 [00:08<00:00,  2.90it/s]\n",
      "Epoch: 6 - Valid: 100%|██████████| 7/7 [00:02<00:00,  2.77it/s]\n",
      "Epoch: 7 - Train: 100%|██████████| 24/24 [00:08<00:00,  2.89it/s]\n",
      "Epoch: 7 - Valid: 100%|██████████| 7/7 [00:02<00:00,  2.77it/s]\n",
      "Epoch: 8 - Train: 100%|██████████| 24/24 [00:08<00:00,  2.88it/s]\n",
      "Epoch: 8 - Valid: 100%|██████████| 7/7 [00:02<00:00,  2.74it/s]\n",
      "Epoch: 9 - Train: 100%|██████████| 24/24 [00:08<00:00,  2.88it/s]\n",
      "Epoch: 9 - Valid: 100%|██████████| 7/7 [00:02<00:00,  2.76it/s]\n",
      "Epoch: 10 - Train: 100%|██████████| 24/24 [00:08<00:00,  2.89it/s]\n",
      "Epoch: 10 - Valid: 100%|██████████| 7/7 [00:02<00:00,  2.78it/s]\n",
      "Epoch: 11 - Train: 100%|██████████| 24/24 [00:08<00:00,  2.89it/s]\n",
      "Epoch: 11 - Valid: 100%|██████████| 7/7 [00:02<00:00,  2.77it/s]\n",
      "Epoch: 12 - Train: 100%|██████████| 24/24 [00:08<00:00,  2.90it/s]\n",
      "Epoch: 12 - Valid: 100%|██████████| 7/7 [00:02<00:00,  2.78it/s]\n",
      "Epoch: 13 - Train: 100%|██████████| 24/24 [00:08<00:00,  2.90it/s]\n",
      "Epoch: 13 - Valid: 100%|██████████| 7/7 [00:02<00:00,  2.78it/s]\n",
      "Epoch: 14 - Train: 100%|██████████| 24/24 [00:08<00:00,  2.89it/s]\n",
      "Epoch: 14 - Valid: 100%|██████████| 7/7 [00:02<00:00,  2.79it/s]\n",
      "Epoch: 15 - Train: 100%|██████████| 24/24 [00:08<00:00,  2.90it/s]\n",
      "Epoch: 15 - Valid: 100%|██████████| 7/7 [00:02<00:00,  2.79it/s]\n",
      "Epoch: 16 - Train: 100%|██████████| 24/24 [00:08<00:00,  2.90it/s]\n",
      "Epoch: 16 - Valid: 100%|██████████| 7/7 [00:02<00:00,  2.78it/s]\n",
      "Epoch: 17 - Train: 100%|██████████| 24/24 [00:08<00:00,  2.89it/s]\n",
      "Epoch: 17 - Valid: 100%|██████████| 7/7 [00:02<00:00,  2.78it/s]\n",
      "Epoch: 18 - Train: 100%|██████████| 24/24 [00:08<00:00,  2.90it/s]\n",
      "Epoch: 18 - Valid: 100%|██████████| 7/7 [00:02<00:00,  2.78it/s]\n",
      "Epoch: 19 - Train: 100%|██████████| 24/24 [00:08<00:00,  2.89it/s]\n",
      "Epoch: 19 - Valid: 100%|██████████| 7/7 [00:02<00:00,  2.75it/s]\n",
      "Epoch: 20 - Train: 100%|██████████| 24/24 [00:08<00:00,  2.90it/s]\n",
      "Epoch: 20 - Valid: 100%|██████████| 7/7 [00:02<00:00,  2.78it/s]\n",
      "Epoch: 21 - Train: 100%|██████████| 24/24 [00:08<00:00,  2.89it/s]\n",
      "Epoch: 21 - Valid: 100%|██████████| 7/7 [00:02<00:00,  2.78it/s]\n",
      "Epoch: 22 - Train: 100%|██████████| 24/24 [00:08<00:00,  2.91it/s]\n",
      "Epoch: 22 - Valid: 100%|██████████| 7/7 [00:02<00:00,  2.78it/s]\n",
      "Epoch: 23 - Train: 100%|██████████| 24/24 [00:08<00:00,  2.91it/s]\n",
      "Epoch: 23 - Valid: 100%|██████████| 7/7 [00:02<00:00,  2.79it/s]\n",
      "Epoch: 24 - Train: 100%|██████████| 24/24 [00:08<00:00,  2.90it/s]\n",
      "Epoch: 24 - Valid: 100%|██████████| 7/7 [00:02<00:00,  2.80it/s]\n",
      "Epoch: 25 - Train: 100%|██████████| 24/24 [00:08<00:00,  2.89it/s]\n",
      "Epoch: 25 - Valid: 100%|██████████| 7/7 [00:02<00:00,  2.78it/s]\n",
      "Epoch: 26 - Train: 100%|██████████| 24/24 [00:08<00:00,  2.90it/s]\n",
      "Epoch: 26 - Valid: 100%|██████████| 7/7 [00:02<00:00,  2.79it/s]\n",
      "Epoch: 27 - Train: 100%|██████████| 24/24 [00:08<00:00,  2.90it/s]\n",
      "Epoch: 27 - Valid: 100%|██████████| 7/7 [00:02<00:00,  2.78it/s]\n",
      "Epoch: 28 - Train: 100%|██████████| 24/24 [00:08<00:00,  2.90it/s]\n",
      "Epoch: 28 - Valid: 100%|██████████| 7/7 [00:02<00:00,  2.80it/s]\n",
      "Epoch: 29 - Train: 100%|██████████| 24/24 [00:08<00:00,  2.90it/s]\n",
      "Epoch: 29 - Valid: 100%|██████████| 7/7 [00:02<00:00,  2.77it/s]\n"
     ]
    },
    {
     "name": "stdout",
     "output_type": "stream",
     "text": [
      "Testing Starting...\n"
     ]
    },
    {
     "name": "stderr",
     "output_type": "stream",
     "text": [
      "Testing:   0%|          | 0/4 [00:00<?, ?it/s]/tmp/ipykernel_48533/1602644077.py:119: UserWarning: To copy construct from a tensor, it is recommended to use sourceTensor.clone().detach() or sourceTensor.clone().detach().requires_grad_(True), rather than torch.tensor(sourceTensor).\n",
      "  values = torch.tensor(values , dtype = torch.float, device = self.device)\n",
      "Testing: 100%|██████████| 4/4 [00:00<00:00,  9.28it/s]\n"
     ]
    },
    {
     "name": "stdout",
     "output_type": "stream",
     "text": [
      "R2 : 0.7348655611276627\n",
      "TEst Loss: 0.39614348113536835\n"
     ]
    },
    {
     "name": "stderr",
     "output_type": "stream",
     "text": [
      "Testing with Train Dataset:   0%|          | 0/24 [00:00<?, ?it/s]/tmp/ipykernel_48533/1602644077.py:151: UserWarning: To copy construct from a tensor, it is recommended to use sourceTensor.clone().detach() or sourceTensor.clone().detach().requires_grad_(True), rather than torch.tensor(sourceTensor).\n",
      "  values = torch.tensor(values , dtype = torch.float, device = self.device)\n",
      "Testing with Train Dataset: 100%|██████████| 24/24 [00:03<00:00,  7.68it/s]\n"
     ]
    }
   ],
   "source": [
    "x = trainer(ext_data, model = model,token = token, device = device)\n",
    "x.train(train_params)\n",
    "x.test()\n",
    "x.save('Influence/influence1')"
   ]
  }
 ],
 "metadata": {
  "kernelspec": {
   "display_name": "mymodel",
   "language": "python",
   "name": "python3"
  },
  "language_info": {
   "codemirror_mode": {
    "name": "ipython",
    "version": 3
   },
   "file_extension": ".py",
   "mimetype": "text/x-python",
   "name": "python",
   "nbconvert_exporter": "python",
   "pygments_lexer": "ipython3",
   "version": "3.12.2"
  }
 },
 "nbformat": 4,
 "nbformat_minor": 2
}
